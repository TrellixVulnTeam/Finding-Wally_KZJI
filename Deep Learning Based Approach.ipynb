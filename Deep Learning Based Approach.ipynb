{
  "nbformat": 4,
  "nbformat_minor": 0,
  "metadata": {
    "colab": {
      "name": "Deep Learning Based Approach.ipynb",
      "provenance": []
    },
    "kernelspec": {
      "name": "python3",
      "display_name": "Python 3"
    }
  },
  "cells": [
    {
      "cell_type": "code",
      "metadata": {
        "id": "IBz0i0SBainz",
        "colab_type": "code",
        "colab": {}
      },
      "source": [
        "import os\n",
        "import pandas as pd\n",
        "from random import choice\n",
        "import shutil"
      ],
      "execution_count": null,
      "outputs": []
    },
    {
      "cell_type": "code",
      "metadata": {
        "colab_type": "code",
        "id": "uDtQacTh0lNS",
        "colab": {
          "base_uri": "https://localhost:8080/",
          "height": 67
        },
        "outputId": "b3de7857-64ed-4922-d748-4536b39c0347"
      },
      "source": [
        "imgs =[]\n",
        "train_imgs = []\n",
        "test_imgs = []\n",
        "\n",
        "trainPath = 'workspace/training/images/train'\n",
        "testPath = 'workspace/training/images/test'\n",
        "crsPath = 'workspace/training/images'\n",
        "\n",
        "train_ratio = 0.9\n",
        "test_ratio = 0.1\n",
        "\n",
        "%mkdir workspace/training/images/train\n",
        "%mkdir workspace/training/images/test\n",
        "\n",
        "for (dirname, dirs, files) in os.walk(crsPath):\n",
        "    for filename in files:\n",
        "        if filename.endswith('.jpg'):\n",
        "            imgs.append(filename)\n",
        "\n",
        "totalImgCount = len(imgs)\n",
        "\n",
        "countForTrain = int(len(imgs)*train_ratio)\n",
        "countForTest = int(len(imgs) - countForTrain)\n",
        "\n",
        "for x in range(countForTrain):\n",
        "\n",
        "    fileJpg = choice(imgs)\n",
        "\n",
        "    shutil.copy(os.path.join(crsPath, fileJpg), os.path.join(trainPath, fileJpg))\n",
        "\n",
        "    imgs.remove(fileJpg)\n",
        "    train_imgs.append(fileJpg)\n",
        "\n",
        "for x in range(countForTest):\n",
        "\n",
        "    fileJpg = choice(imgs)\n",
        "\n",
        "    shutil.copy(os.path.join(crsPath, fileJpg), os.path.join(testPath, fileJpg))\n",
        "\n",
        "    imgs.remove(fileJpg)\n",
        "    test_imgs.append(fileJpg)\n",
        "\n",
        "print('Total images: ', totalImgCount)\n",
        "print('Images in train dir:', len(os.listdir(trainPath)))\n",
        "print('Images in test dir:', len(os.listdir(testPath)))"
      ],
      "execution_count": null,
      "outputs": [
        {
          "output_type": "stream",
          "text": [
            "Total images:  36\n",
            "Images in train dir: 32\n",
            "Images in test dir: 4\n"
          ],
          "name": "stdout"
        }
      ]
    },
    {
      "cell_type": "code",
      "metadata": {
        "id": "Rd6C5O2x18d4",
        "colab_type": "code",
        "colab": {}
      },
      "source": [
        "annotations = pd.read_csv('workspace/training/annotations/annotations.csv')\n",
        "\n",
        "annotations[annotations.filename.isin(train_imgs)].to_csv('workspace/training/annotations/train_annotations.csv', index=None)\n",
        "annotations[annotations.filename.isin(test_imgs)].to_csv('workspace/training/annotations/test_annotations.csv', index=None)"
      ],
      "execution_count": null,
      "outputs": []
    }
  ]
}